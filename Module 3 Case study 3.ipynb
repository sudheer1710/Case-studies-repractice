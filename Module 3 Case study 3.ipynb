{
 "cells": [
  {
   "cell_type": "code",
   "execution_count": 1,
   "metadata": {},
   "outputs": [],
   "source": [
    "import numpy as np\n",
    "import pandas as pd"
   ]
  },
  {
   "cell_type": "code",
   "execution_count": 2,
   "metadata": {},
   "outputs": [],
   "source": [
    "import os"
   ]
  },
  {
   "cell_type": "code",
   "execution_count": 3,
   "metadata": {},
   "outputs": [],
   "source": [
    "os.chdir(\"C:\\\\Users\\\\HP\\\\edureka\\\\edureka D drive\\\\Module 3 Deep Dive - Functions, OOPs, Modules, Errors and Exceptions\\\\Datasets\")"
   ]
  },
  {
   "cell_type": "code",
   "execution_count": 4,
   "metadata": {},
   "outputs": [
    {
     "data": {
      "text/plain": [
       "'C:\\\\Users\\\\HP\\\\edureka\\\\edureka D drive\\\\Module 3 Deep Dive - Functions, OOPs, Modules, Errors and Exceptions\\\\Datasets'"
      ]
     },
     "execution_count": 4,
     "metadata": {},
     "output_type": "execute_result"
    }
   ],
   "source": [
    "pwd"
   ]
  },
  {
   "cell_type": "code",
   "execution_count": 5,
   "metadata": {},
   "outputs": [
    {
     "name": "stdout",
     "output_type": "stream",
     "text": [
      " Volume in drive C has no label.\n",
      " Volume Serial Number is 7C9F-24BB\n",
      "\n",
      " Directory of C:\\Users\\HP\\edureka\\edureka D drive\\Module 3 Deep Dive - Functions, OOPs, Modules, Errors and Exceptions\\Datasets\n",
      "\n",
      "02-03-2021  15:10    <DIR>          .\n",
      "02-03-2021  15:10    <DIR>          ..\n",
      "12-02-2020  15:32    <DIR>          .ipynb_checkpoints\n",
      "03-04-2018  16:20            11,769 bank-data.csv\n",
      "03-04-2018  16:20            15,424 FairDealCustomerData.csv\n",
      "               2 File(s)         27,193 bytes\n",
      "               3 Dir(s)  234,319,659,008 bytes free\n"
     ]
    }
   ],
   "source": [
    "ls"
   ]
  },
  {
   "cell_type": "code",
   "execution_count": 6,
   "metadata": {},
   "outputs": [],
   "source": [
    "df = pd.read_csv(\"FairDealCustomerData.csv\", header=None)"
   ]
  },
  {
   "cell_type": "code",
   "execution_count": 7,
   "metadata": {},
   "outputs": [
    {
     "data": {
      "text/html": [
       "<div>\n",
       "<style scoped>\n",
       "    .dataframe tbody tr th:only-of-type {\n",
       "        vertical-align: middle;\n",
       "    }\n",
       "\n",
       "    .dataframe tbody tr th {\n",
       "        vertical-align: top;\n",
       "    }\n",
       "\n",
       "    .dataframe thead th {\n",
       "        text-align: right;\n",
       "    }\n",
       "</style>\n",
       "<table border=\"1\" class=\"dataframe\">\n",
       "  <thead>\n",
       "    <tr style=\"text-align: right;\">\n",
       "      <th></th>\n",
       "      <th>0</th>\n",
       "      <th>1</th>\n",
       "      <th>2</th>\n",
       "    </tr>\n",
       "  </thead>\n",
       "  <tbody>\n",
       "    <tr>\n",
       "      <th>0</th>\n",
       "      <td>Braund</td>\n",
       "      <td>Mr. Owen Harris</td>\n",
       "      <td>1</td>\n",
       "    </tr>\n",
       "    <tr>\n",
       "      <th>1</th>\n",
       "      <td>Heikkinen</td>\n",
       "      <td>Miss. Laina</td>\n",
       "      <td>0</td>\n",
       "    </tr>\n",
       "    <tr>\n",
       "      <th>2</th>\n",
       "      <td>Allen</td>\n",
       "      <td>Mr. William Henry</td>\n",
       "      <td>0</td>\n",
       "    </tr>\n",
       "    <tr>\n",
       "      <th>3</th>\n",
       "      <td>Moran</td>\n",
       "      <td>Mr. James</td>\n",
       "      <td>0</td>\n",
       "    </tr>\n",
       "    <tr>\n",
       "      <th>4</th>\n",
       "      <td>McCarthy</td>\n",
       "      <td>Mr. Timothy J</td>\n",
       "      <td>0</td>\n",
       "    </tr>\n",
       "  </tbody>\n",
       "</table>\n",
       "</div>"
      ],
      "text/plain": [
       "            0                    1  2\n",
       "0      Braund     Mr. Owen Harris   1\n",
       "1   Heikkinen         Miss. Laina   0\n",
       "2       Allen   Mr. William Henry   0\n",
       "3       Moran           Mr. James   0\n",
       "4    McCarthy       Mr. Timothy J   0"
      ]
     },
     "execution_count": 7,
     "metadata": {},
     "output_type": "execute_result"
    }
   ],
   "source": [
    "df.head()"
   ]
  },
  {
   "cell_type": "code",
   "execution_count": 8,
   "metadata": {},
   "outputs": [],
   "source": [
    "import re"
   ]
  },
  {
   "cell_type": "code",
   "execution_count": 9,
   "metadata": {
    "scrolled": false
   },
   "outputs": [],
   "source": [
    "df.columns = ['Lastname', 'Firstname', 'Blacklisted']"
   ]
  },
  {
   "cell_type": "code",
   "execution_count": 10,
   "metadata": {},
   "outputs": [],
   "source": [
    "new = df['Firstname'].str.split(\" \", n=-1, expand=True)"
   ]
  },
  {
   "cell_type": "code",
   "execution_count": 11,
   "metadata": {},
   "outputs": [
    {
     "data": {
      "text/html": [
       "<div>\n",
       "<style scoped>\n",
       "    .dataframe tbody tr th:only-of-type {\n",
       "        vertical-align: middle;\n",
       "    }\n",
       "\n",
       "    .dataframe tbody tr th {\n",
       "        vertical-align: top;\n",
       "    }\n",
       "\n",
       "    .dataframe thead th {\n",
       "        text-align: right;\n",
       "    }\n",
       "</style>\n",
       "<table border=\"1\" class=\"dataframe\">\n",
       "  <thead>\n",
       "    <tr style=\"text-align: right;\">\n",
       "      <th></th>\n",
       "      <th>0</th>\n",
       "      <th>1</th>\n",
       "      <th>2</th>\n",
       "      <th>3</th>\n",
       "      <th>4</th>\n",
       "      <th>5</th>\n",
       "      <th>6</th>\n",
       "    </tr>\n",
       "  </thead>\n",
       "  <tbody>\n",
       "    <tr>\n",
       "      <th>0</th>\n",
       "      <td></td>\n",
       "      <td>Mr.</td>\n",
       "      <td>Owen</td>\n",
       "      <td>Harris</td>\n",
       "      <td></td>\n",
       "      <td>None</td>\n",
       "      <td>None</td>\n",
       "    </tr>\n",
       "    <tr>\n",
       "      <th>1</th>\n",
       "      <td></td>\n",
       "      <td>Miss.</td>\n",
       "      <td>Laina</td>\n",
       "      <td></td>\n",
       "      <td>None</td>\n",
       "      <td>None</td>\n",
       "      <td>None</td>\n",
       "    </tr>\n",
       "    <tr>\n",
       "      <th>2</th>\n",
       "      <td></td>\n",
       "      <td>Mr.</td>\n",
       "      <td>William</td>\n",
       "      <td>Henry</td>\n",
       "      <td></td>\n",
       "      <td>None</td>\n",
       "      <td>None</td>\n",
       "    </tr>\n",
       "    <tr>\n",
       "      <th>3</th>\n",
       "      <td></td>\n",
       "      <td>Mr.</td>\n",
       "      <td>James</td>\n",
       "      <td></td>\n",
       "      <td>None</td>\n",
       "      <td>None</td>\n",
       "      <td>None</td>\n",
       "    </tr>\n",
       "    <tr>\n",
       "      <th>4</th>\n",
       "      <td></td>\n",
       "      <td>Mr.</td>\n",
       "      <td>Timothy</td>\n",
       "      <td>J</td>\n",
       "      <td></td>\n",
       "      <td>None</td>\n",
       "      <td>None</td>\n",
       "    </tr>\n",
       "    <tr>\n",
       "      <th>...</th>\n",
       "      <td>...</td>\n",
       "      <td>...</td>\n",
       "      <td>...</td>\n",
       "      <td>...</td>\n",
       "      <td>...</td>\n",
       "      <td>...</td>\n",
       "      <td>...</td>\n",
       "    </tr>\n",
       "    <tr>\n",
       "      <th>527</th>\n",
       "      <td></td>\n",
       "      <td>Mr.</td>\n",
       "      <td>Frederick</td>\n",
       "      <td>James</td>\n",
       "      <td></td>\n",
       "      <td>None</td>\n",
       "      <td>None</td>\n",
       "    </tr>\n",
       "    <tr>\n",
       "      <th>528</th>\n",
       "      <td></td>\n",
       "      <td>Mr.</td>\n",
       "      <td>Henry</td>\n",
       "      <td>Jr</td>\n",
       "      <td></td>\n",
       "      <td>None</td>\n",
       "      <td>None</td>\n",
       "    </tr>\n",
       "    <tr>\n",
       "      <th>529</th>\n",
       "      <td></td>\n",
       "      <td>Rev.</td>\n",
       "      <td>Juozas</td>\n",
       "      <td></td>\n",
       "      <td>None</td>\n",
       "      <td>None</td>\n",
       "      <td>None</td>\n",
       "    </tr>\n",
       "    <tr>\n",
       "      <th>530</th>\n",
       "      <td></td>\n",
       "      <td>Mr.</td>\n",
       "      <td>Karl</td>\n",
       "      <td>Howell</td>\n",
       "      <td></td>\n",
       "      <td>None</td>\n",
       "      <td>None</td>\n",
       "    </tr>\n",
       "    <tr>\n",
       "      <th>531</th>\n",
       "      <td></td>\n",
       "      <td>Mr.</td>\n",
       "      <td>Patrick</td>\n",
       "      <td></td>\n",
       "      <td>None</td>\n",
       "      <td>None</td>\n",
       "      <td>None</td>\n",
       "    </tr>\n",
       "  </tbody>\n",
       "</table>\n",
       "<p>532 rows × 7 columns</p>\n",
       "</div>"
      ],
      "text/plain": [
       "    0       1          2       3     4     5     6\n",
       "0         Mr.       Owen  Harris        None  None\n",
       "1       Miss.      Laina          None  None  None\n",
       "2         Mr.    William   Henry        None  None\n",
       "3         Mr.      James          None  None  None\n",
       "4         Mr.    Timothy       J        None  None\n",
       "..  ..    ...        ...     ...   ...   ...   ...\n",
       "527       Mr.  Frederick   James        None  None\n",
       "528       Mr.      Henry      Jr        None  None\n",
       "529      Rev.     Juozas          None  None  None\n",
       "530       Mr.       Karl  Howell        None  None\n",
       "531       Mr.    Patrick          None  None  None\n",
       "\n",
       "[532 rows x 7 columns]"
      ]
     },
     "execution_count": 11,
     "metadata": {},
     "output_type": "execute_result"
    }
   ],
   "source": [
    "new"
   ]
  },
  {
   "cell_type": "code",
   "execution_count": 12,
   "metadata": {},
   "outputs": [],
   "source": [
    "df['Title'] = new[1]"
   ]
  },
  {
   "cell_type": "code",
   "execution_count": 13,
   "metadata": {},
   "outputs": [],
   "source": [
    "df['Firstname'] = new[2]"
   ]
  },
  {
   "cell_type": "code",
   "execution_count": 14,
   "metadata": {},
   "outputs": [],
   "source": [
    "df['Middlename'] = new[3]"
   ]
  },
  {
   "cell_type": "code",
   "execution_count": 15,
   "metadata": {},
   "outputs": [
    {
     "data": {
      "text/html": [
       "<div>\n",
       "<style scoped>\n",
       "    .dataframe tbody tr th:only-of-type {\n",
       "        vertical-align: middle;\n",
       "    }\n",
       "\n",
       "    .dataframe tbody tr th {\n",
       "        vertical-align: top;\n",
       "    }\n",
       "\n",
       "    .dataframe thead th {\n",
       "        text-align: right;\n",
       "    }\n",
       "</style>\n",
       "<table border=\"1\" class=\"dataframe\">\n",
       "  <thead>\n",
       "    <tr style=\"text-align: right;\">\n",
       "      <th></th>\n",
       "      <th>Lastname</th>\n",
       "      <th>Firstname</th>\n",
       "      <th>Blacklisted</th>\n",
       "      <th>Title</th>\n",
       "      <th>Middlename</th>\n",
       "    </tr>\n",
       "  </thead>\n",
       "  <tbody>\n",
       "    <tr>\n",
       "      <th>0</th>\n",
       "      <td>Braund</td>\n",
       "      <td>Owen</td>\n",
       "      <td>1</td>\n",
       "      <td>Mr.</td>\n",
       "      <td>Harris</td>\n",
       "    </tr>\n",
       "    <tr>\n",
       "      <th>1</th>\n",
       "      <td>Heikkinen</td>\n",
       "      <td>Laina</td>\n",
       "      <td>0</td>\n",
       "      <td>Miss.</td>\n",
       "      <td></td>\n",
       "    </tr>\n",
       "    <tr>\n",
       "      <th>2</th>\n",
       "      <td>Allen</td>\n",
       "      <td>William</td>\n",
       "      <td>0</td>\n",
       "      <td>Mr.</td>\n",
       "      <td>Henry</td>\n",
       "    </tr>\n",
       "    <tr>\n",
       "      <th>3</th>\n",
       "      <td>Moran</td>\n",
       "      <td>James</td>\n",
       "      <td>0</td>\n",
       "      <td>Mr.</td>\n",
       "      <td></td>\n",
       "    </tr>\n",
       "    <tr>\n",
       "      <th>4</th>\n",
       "      <td>McCarthy</td>\n",
       "      <td>Timothy</td>\n",
       "      <td>0</td>\n",
       "      <td>Mr.</td>\n",
       "      <td>J</td>\n",
       "    </tr>\n",
       "  </tbody>\n",
       "</table>\n",
       "</div>"
      ],
      "text/plain": [
       "     Lastname Firstname  Blacklisted  Title Middlename\n",
       "0      Braund      Owen            1    Mr.     Harris\n",
       "1   Heikkinen     Laina            0  Miss.           \n",
       "2       Allen   William            0    Mr.      Henry\n",
       "3       Moran     James            0    Mr.           \n",
       "4    McCarthy   Timothy            0    Mr.          J"
      ]
     },
     "execution_count": 15,
     "metadata": {},
     "output_type": "execute_result"
    }
   ],
   "source": [
    "df.head()"
   ]
  },
  {
   "cell_type": "code",
   "execution_count": 16,
   "metadata": {},
   "outputs": [],
   "source": [
    "new_col_order = ['Title','Firstname','Middlename','Lastname','Blacklisted']"
   ]
  },
  {
   "cell_type": "code",
   "execution_count": 17,
   "metadata": {},
   "outputs": [],
   "source": [
    "df = df.reindex(columns = new_col_order)"
   ]
  },
  {
   "cell_type": "code",
   "execution_count": 18,
   "metadata": {},
   "outputs": [
    {
     "data": {
      "text/html": [
       "<div>\n",
       "<style scoped>\n",
       "    .dataframe tbody tr th:only-of-type {\n",
       "        vertical-align: middle;\n",
       "    }\n",
       "\n",
       "    .dataframe tbody tr th {\n",
       "        vertical-align: top;\n",
       "    }\n",
       "\n",
       "    .dataframe thead th {\n",
       "        text-align: right;\n",
       "    }\n",
       "</style>\n",
       "<table border=\"1\" class=\"dataframe\">\n",
       "  <thead>\n",
       "    <tr style=\"text-align: right;\">\n",
       "      <th></th>\n",
       "      <th>Title</th>\n",
       "      <th>Firstname</th>\n",
       "      <th>Middlename</th>\n",
       "      <th>Lastname</th>\n",
       "      <th>Blacklisted</th>\n",
       "    </tr>\n",
       "  </thead>\n",
       "  <tbody>\n",
       "    <tr>\n",
       "      <th>0</th>\n",
       "      <td>Mr.</td>\n",
       "      <td>Owen</td>\n",
       "      <td>Harris</td>\n",
       "      <td>Braund</td>\n",
       "      <td>1</td>\n",
       "    </tr>\n",
       "    <tr>\n",
       "      <th>1</th>\n",
       "      <td>Miss.</td>\n",
       "      <td>Laina</td>\n",
       "      <td></td>\n",
       "      <td>Heikkinen</td>\n",
       "      <td>0</td>\n",
       "    </tr>\n",
       "    <tr>\n",
       "      <th>2</th>\n",
       "      <td>Mr.</td>\n",
       "      <td>William</td>\n",
       "      <td>Henry</td>\n",
       "      <td>Allen</td>\n",
       "      <td>0</td>\n",
       "    </tr>\n",
       "    <tr>\n",
       "      <th>3</th>\n",
       "      <td>Mr.</td>\n",
       "      <td>James</td>\n",
       "      <td></td>\n",
       "      <td>Moran</td>\n",
       "      <td>0</td>\n",
       "    </tr>\n",
       "    <tr>\n",
       "      <th>4</th>\n",
       "      <td>Mr.</td>\n",
       "      <td>Timothy</td>\n",
       "      <td>J</td>\n",
       "      <td>McCarthy</td>\n",
       "      <td>0</td>\n",
       "    </tr>\n",
       "  </tbody>\n",
       "</table>\n",
       "</div>"
      ],
      "text/plain": [
       "   Title Firstname Middlename    Lastname  Blacklisted\n",
       "0    Mr.      Owen     Harris      Braund            1\n",
       "1  Miss.     Laina              Heikkinen            0\n",
       "2    Mr.   William      Henry       Allen            0\n",
       "3    Mr.     James                  Moran            0\n",
       "4    Mr.   Timothy          J    McCarthy            0"
      ]
     },
     "execution_count": 18,
     "metadata": {},
     "output_type": "execute_result"
    }
   ],
   "source": [
    "df.head()"
   ]
  },
  {
   "cell_type": "raw",
   "metadata": {},
   "source": [
    "Leaving the problem unanswered. How to separate Titles using Regular expressions. And how to find missing values in Middlenames"
   ]
  },
  {
   "cell_type": "markdown",
   "metadata": {},
   "source": [
    "Store the data in Customer Class"
   ]
  },
  {
   "cell_type": "code",
   "execution_count": 19,
   "metadata": {},
   "outputs": [],
   "source": [
    "class Customer:\n",
    "    def __init__(self,Title,Firstname,Middlename,Lastname,Blacklisted):\n",
    "        self.Title = Title\n",
    "        self.Firstname = Firstname\n",
    "        self.Middlename = Middlename\n",
    "        self.Lastname = Lastname\n",
    "        self.Blacklisted = Blacklisted\n",
    "        if Blacklisted == 0:\n",
    "            self.Blacklisted = 'Not Blacklisted'\n",
    "        else:\n",
    "            self.Blacklisted = 'Blacklisted'\n",
    "    def display():\n",
    "        print(self.Title,\" \",self.Firstname,\" \",self.Middlename,\" \",self.Lastname,\" \",has,\" \",self.Blacklisted)"
   ]
  },
  {
   "cell_type": "raw",
   "metadata": {},
   "source": [
    "Made a try but din't understand the question perfectly"
   ]
  },
  {
   "cell_type": "raw",
   "metadata": {},
   "source": [
    "Create Custom Exception – CustomerNotAllowedException"
   ]
  },
  {
   "cell_type": "raw",
   "metadata": {},
   "source": [
    "Gave up as it going in a loop"
   ]
  },
  {
   "cell_type": "code",
   "execution_count": null,
   "metadata": {},
   "outputs": [],
   "source": [
    "class Custom(Exception):\n",
    "    pass\n",
    "\n",
    "class CustomerNotAllowed(Custom):\n",
    "    pass\n",
    "    \n",
    "while True:\n",
    "    try:\n",
    "        for i in range(len(df['Blacklisted'])):\n",
    "            if df['Blacklisted'][i] == 1:\n",
    "                print(\"Customer is Allowed\")\n",
    "                \n",
    "            else:\n",
    "                raise CustomerNotAllowed \n",
    "        break        \n",
    "        \n",
    "    except CustomerNotAllowed:\n",
    "        print(\"Customer is Not Allowed\")\n",
    "    \n",
    "print(\"Done\")"
   ]
  },
  {
   "cell_type": "code",
   "execution_count": null,
   "metadata": {},
   "outputs": [],
   "source": [
    "df['Blacklisted']"
   ]
  },
  {
   "cell_type": "code",
   "execution_count": null,
   "metadata": {},
   "outputs": [],
   "source": [
    "for i in range(len(df['Blacklisted'])):\n",
    "    if df['Blacklisted'][i] == 1\n",
    "        print(\"Customer is Allowed\")\n",
    "    else:\n",
    "        raise CustomerNotAllowed\n",
    "    "
   ]
  },
  {
   "cell_type": "code",
   "execution_count": null,
   "metadata": {},
   "outputs": [],
   "source": [
    "df['Blacklisted'][1]"
   ]
  },
  {
   "cell_type": "code",
   "execution_count": null,
   "metadata": {},
   "outputs": [],
   "source": [
    "df.info()"
   ]
  },
  {
   "cell_type": "code",
   "execution_count": null,
   "metadata": {},
   "outputs": [],
   "source": []
  },
  {
   "cell_type": "raw",
   "metadata": {},
   "source": [
    "5. Pass a customer to function \"createOrder\" and throw CustomerNotAllowedException in case of blacklisted value is 1"
   ]
  },
  {
   "cell_type": "code",
   "execution_count": 28,
   "metadata": {},
   "outputs": [],
   "source": [
    "class createOrder:\n",
    "    def __init__(self,name,Blacklisted):\n",
    "        self.name = name\n",
    "        self.Blacklisted = Blacklisted\n",
    "    def display(self):\n",
    "        if self.Blacklisted == 1:\n",
    "            self.Blacklisted = \"Customer Not Allowed\"\n",
    "        else:\n",
    "            self.Blacklisted = 'Customer Allowed'\n",
    "        print(\"Customer name: \",self.name,\" \",self.Blacklisted)\n",
    "    "
   ]
  },
  {
   "cell_type": "code",
   "execution_count": 29,
   "metadata": {},
   "outputs": [],
   "source": [
    "ob = createOrder(\"abc\",1)"
   ]
  },
  {
   "cell_type": "code",
   "execution_count": 30,
   "metadata": {},
   "outputs": [
    {
     "name": "stdout",
     "output_type": "stream",
     "text": [
      "Customer name:  abc   Customer Not Allowed\n",
      "None\n"
     ]
    }
   ],
   "source": [
    "print(ob.display())"
   ]
  },
  {
   "cell_type": "code",
   "execution_count": null,
   "metadata": {},
   "outputs": [],
   "source": []
  },
  {
   "cell_type": "code",
   "execution_count": 31,
   "metadata": {},
   "outputs": [],
   "source": [
    "class createOrder:\n",
    "    def __init__(self,name,Blacklisted,productname,productcode):\n",
    "        self.name = name\n",
    "        self.Blacklisted = Blacklisted\n",
    "        self.productname = productname\n",
    "        self.productcode = productcode\n",
    "    def display(self):\n",
    "        if self.Blacklisted == 1:\n",
    "            self.Blacklisted = \"Customer Not Allowed\"\n",
    "        else:\n",
    "            self.Blacklisted = 'Customer Allowed'\n",
    "        print(\"Customer name: \",self.name,\" \",self.Blacklisted)"
   ]
  },
  {
   "cell_type": "code",
   "execution_count": null,
   "metadata": {},
   "outputs": [],
   "source": []
  },
  {
   "cell_type": "code",
   "execution_count": null,
   "metadata": {},
   "outputs": [],
   "source": []
  },
  {
   "cell_type": "code",
   "execution_count": null,
   "metadata": {},
   "outputs": [],
   "source": []
  },
  {
   "cell_type": "code",
   "execution_count": null,
   "metadata": {},
   "outputs": [],
   "source": []
  },
  {
   "cell_type": "code",
   "execution_count": null,
   "metadata": {},
   "outputs": [],
   "source": []
  }
 ],
 "metadata": {
  "kernelspec": {
   "display_name": "Python 3",
   "language": "python",
   "name": "python3"
  },
  "language_info": {
   "codemirror_mode": {
    "name": "ipython",
    "version": 3
   },
   "file_extension": ".py",
   "mimetype": "text/x-python",
   "name": "python",
   "nbconvert_exporter": "python",
   "pygments_lexer": "ipython3",
   "version": "3.8.5"
  }
 },
 "nbformat": 4,
 "nbformat_minor": 4
}
