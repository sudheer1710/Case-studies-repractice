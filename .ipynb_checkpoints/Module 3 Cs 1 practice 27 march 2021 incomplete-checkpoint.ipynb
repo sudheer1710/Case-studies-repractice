{
 "cells": [
  {
   "cell_type": "markdown",
   "metadata": {},
   "source": [
    "A Robot moves in a Plane starting from the origin point (0,0). The robot can move toward UP, DOWN, LEFT, RIGHT. The trace of Robot movement is as given following:\n",
    "UP 5\n",
    "DOWN 3\n",
    "LEFT 3\n",
    "RIGHT 2\n",
    "The numbers after directions are steps. Write a program to compute the distance current position after sequence of movements.\n",
    "Hint: Use math module."
   ]
  },
  {
   "cell_type": "code",
   "execution_count": null,
   "metadata": {},
   "outputs": [],
   "source": [
    "import math"
   ]
  },
  {
   "cell_type": "code",
   "execution_count": null,
   "metadata": {},
   "outputs": [],
   "source": [
    "print(dir(math))"
   ]
  },
  {
   "cell_type": "markdown",
   "metadata": {},
   "source": [
    "starting X-co-ordinate = x1\n",
    "starting Y-co-ordinate = y1\n",
    "ending   X-co-ordinate = x2\n",
    "ending   Y-co-ordinate = y2"
   ]
  },
  {
   "cell_type": "code",
   "execution_count": null,
   "metadata": {},
   "outputs": [],
   "source": [
    "pos=[0,0]\n",
    "import math\n",
    "while True:\n",
    "    s = input(\"Enter trace \")\n",
    "    if not s:                                       # If nothing is entered in input function\n",
    "        break\n",
    "    direction = s.split(\" \")[0]\n",
    "    movement = int(s.split(\" \")[1])\n",
    "    \n",
    "    if direction==\"UP\":\n",
    "        print(movement)\n",
    "        pos[1]+=movement\n",
    "        print(pos)\n",
    "    elif direction==\"DOWN\":\n",
    "        print(movement)\n",
    "        pos[1]-=movement\n",
    "        print(pos)\n",
    "    elif direction==\"LEFT\":\n",
    "        print(movement)\n",
    "        pos[0]-=movement\n",
    "        print(pos)\n",
    "    elif direction==\"RIGHT\":\n",
    "        print(movement)\n",
    "        pos[0]+=movement\n",
    "        print(pos)\n",
    "    else:\n",
    "        pass\n",
    "print(pos)\n",
    "print(int(math.sqrt(pos[1]**2+pos[0]**2)))\n",
    "    "
   ]
  },
  {
   "cell_type": "code",
   "execution_count": null,
   "metadata": {},
   "outputs": [],
   "source": []
  },
  {
   "cell_type": "code",
   "execution_count": null,
   "metadata": {},
   "outputs": [],
   "source": [
    "import datetime"
   ]
  },
  {
   "cell_type": "code",
   "execution_count": null,
   "metadata": {},
   "outputs": [],
   "source": [
    "print(dir(datetime))"
   ]
  },
  {
   "cell_type": "code",
   "execution_count": null,
   "metadata": {},
   "outputs": [],
   "source": [
    "datetime.datetime.today()"
   ]
  },
  {
   "cell_type": "code",
   "execution_count": null,
   "metadata": {},
   "outputs": [],
   "source": [
    "datetime.date(2021,3,27)"
   ]
  },
  {
   "cell_type": "code",
   "execution_count": null,
   "metadata": {},
   "outputs": [],
   "source": [
    "datetime.date(2021,3,27).ctime()"
   ]
  },
  {
   "cell_type": "code",
   "execution_count": null,
   "metadata": {},
   "outputs": [],
   "source": []
  },
  {
   "cell_type": "code",
   "execution_count": null,
   "metadata": {},
   "outputs": [],
   "source": []
  },
  {
   "cell_type": "markdown",
   "metadata": {},
   "source": [
    "3. Weather forecasting organization wants to show is it day or night. So, write a program for such organization to find whether is it dark outside or not.\n",
    "Hint: Use time module."
   ]
  },
  {
   "cell_type": "code",
   "execution_count": null,
   "metadata": {},
   "outputs": [],
   "source": [
    "import time"
   ]
  },
  {
   "cell_type": "code",
   "execution_count": null,
   "metadata": {},
   "outputs": [],
   "source": [
    "print(dir(time))"
   ]
  },
  {
   "cell_type": "code",
   "execution_count": null,
   "metadata": {},
   "outputs": [],
   "source": [
    "time_now = time.localtime()\n",
    "time_now[3]"
   ]
  },
  {
   "cell_type": "code",
   "execution_count": null,
   "metadata": {
    "scrolled": true
   },
   "outputs": [],
   "source": [
    "print(time_now.tm_year)\n",
    "print(time_now.tm_mon)\n",
    "print(time_now.tm_mday)\n",
    "print(time_now.tm_hour)\n",
    "print(time_now.tm_min)\n",
    "print(time_now.tm_sec)"
   ]
  },
  {
   "cell_type": "code",
   "execution_count": null,
   "metadata": {},
   "outputs": [],
   "source": [
    "import time\n",
    "\n",
    "print(\"Is it dark outside?\\n==================\")\n",
    "\n",
    "#month_number : sunset_hour\n",
    "dark = {\n",
    "\n",
    "    1: 16,\n",
    "    2: 17,\n",
    "    3: 18,\n",
    "    4: 19,\n",
    "    5: 19,\n",
    "    6: 20,\n",
    "    7: 20,\n",
    "    8: 19,\n",
    "    9: 18,\n",
    "    10: 17,\n",
    "    11: 17,\n",
    "    12: 16\n",
    "\n",
    "    }\n",
    "\n",
    "#month_number : sunrise_hour\n",
    "light = {\n",
    "\n",
    "    1: 8,\n",
    "    2: 7,\n",
    "    3: 6,\n",
    "    4: 5,\n",
    "    5: 4,\n",
    "    6: 4,\n",
    "    7: 4,\n",
    "    8: 5,\n",
    "    9: 6,\n",
    "    10: 6,\n",
    "    11: 7,\n",
    "    12: 8\n",
    "\n",
    "    }\n",
    "\n",
    "time_now = time.localtime()\n",
    "\n",
    "if (time_now.tm_hour >= light[time_now.tm_mon] and time_now.tm_hour < dark[time_now.tm_mon]):\n",
    "    print(\"light\")\n",
    "else:\n",
    "    print(\"dark\")"
   ]
  },
  {
   "cell_type": "code",
   "execution_count": null,
   "metadata": {},
   "outputs": [],
   "source": []
  },
  {
   "cell_type": "markdown",
   "metadata": {},
   "source": [
    "4. Write a program to find distance between two locations when their latitude and longitudes are given.\n",
    "Hint: Use math module."
   ]
  },
  {
   "cell_type": "code",
   "execution_count": null,
   "metadata": {},
   "outputs": [],
   "source": [
    "from math import radians, sin, cos, atan2, sqrt\n",
    "\n",
    "lat1 = radians(52.2296756)\n",
    "lon1 = radians(21.0122287)\n",
    "lat2 = radians(52.406374)\n",
    "lon2 = radians(16.9251681)\n",
    "\n",
    "\n",
    "#Approximate Radius of earth\n",
    "R = 6373 \n",
    "\n",
    "dlon = lon2 - lon1\n",
    "dlat = lat2 - lat1\n",
    "\n",
    "a = sin(dlat / 2)**2 + cos(lat1) * cos(lat2) * sin(dlon / 2)**2\n",
    "c = 2 * atan2(sqrt(a), sqrt(1 - a))\n",
    "\n",
    "distance = R * c\n",
    "\n",
    "print(\"The distance between two points is {}kms \".format(round(distance,2)))"
   ]
  },
  {
   "cell_type": "code",
   "execution_count": null,
   "metadata": {},
   "outputs": [],
   "source": []
  },
  {
   "cell_type": "markdown",
   "metadata": {},
   "source": [
    "5. Design a software for bank system. There should be options like cash withdraw, cash credit and change password. According to user input, the software should provide required output.\n",
    "Hint: Use if else statements and functions."
   ]
  },
  {
   "cell_type": "raw",
   "metadata": {},
   "source": [
    "In this below code I have mimiced User defined exception Module 3 Page no. 128\n",
    "Actually my goal was to somehow use OOP to solve this problem. But entered statements which need to entered in except statements. So, putting them back and trying again."
   ]
  },
  {
   "cell_type": "code",
   "execution_count": null,
   "metadata": {},
   "outputs": [],
   "source": [
    "'''Options like Cash withdraw Cash credit and Change password should be there. Use if else and functions'''\n",
    "\n",
    "\n",
    "class Temp(Exception):\n",
    "    pass\n",
    "\n",
    "\n",
    "\n",
    "class Cashwithdraw(Temp):\n",
    "    def __init__(self):\n",
    "        \n",
    "        print(\"Your bank balance before withdrawal is \",BankBalance,\" Rupees\")\n",
    "        print(\"Your Bank balance after withdrawal is \", PostWithdrawalamount)\n",
    "\n",
    "class Cashcredit(Temp):\n",
    "    def __init__(self):\n",
    "        \n",
    "        print(\"Your bank balance before Deposit is \",BankBalance,\" Rupees\")\n",
    "        print(\"Your Bank balance after Deposit is \", PostWithdrawalamount)\n",
    "        \n",
    "BankBalance = 150000\n",
    "ATMPIN = 1234\n",
    "\n",
    "print(\"Welcome to bank\")\n",
    "\n",
    "while True:\n",
    "    \n",
    "    try:        \n",
    "        if UserinputforPIN == ATMPIN:\n",
    "            print(\"Please select an option\")\n",
    "            print(\"Options\")\n",
    "            print(\"1. Cash withdrawal\")\n",
    "            print(\"2. Cash Deposit\")\n",
    "            print(\"3. Password change\")\n",
    "            Option = int(input(\"Please choose your option: \"))\n",
    "        if Option == 1:\n",
    "            Withdrawalamount = int(input(\"Please enter withdrawal amount in Rupees : \"))\n",
    "            PostWithdrawalamount = BankBalance - Withdrawalamount\n",
    "            raise Cashwithdraw\n",
    "        elif Option == 2:\n",
    "            Creditamount = int(input(\"Please enter Deposit amount in Rupees : \"))\n",
    "            PostCreditamount = BankBalance + Creditamount\n",
    "            raise Cashcredit\n",
    "        elif Option == 3:\n",
    "            CurrentPin = int(input(\"Please enter your current PIN :\"))\n",
    "            if CurrentPin == ATMPIN:\n",
    "                NewPassword = int(input(\"Please enter your four digit new PIN :\"))\n",
    "                NewPasswordConfirmation = int(input(\"Please re-enter your four digit new PIN :\"))\n",
    "                if NewPassword == NewPasswordConfirmation:\n",
    "                    print(\"Congratulations. Your ATMPIN has been successfully reset\")\n",
    "                else:\n",
    "                    print(\"Please Changepassword from the starting again\")\n",
    "            else:\n",
    "                print(\"You have entered incorrect PIN number, please retry again after sometime\")\n",
    "        else:\n",
    "            print(\"Incorrect entry, Please try again after sometime\")\n",
    "    except Cashwithdraw:\n",
    "        pass\n",
    "    except Cashcredit:\n",
    "        pass\n",
    "\n",
    "print(\"Thank you for banking with us\")\n",
    "    \n",
    "        "
   ]
  },
  {
   "cell_type": "raw",
   "metadata": {},
   "source": [
    "A curious case where I accidentally implemented two if statements and the program is working fine #$"
   ]
  },
  {
   "cell_type": "code",
   "execution_count": 2,
   "metadata": {},
   "outputs": [
    {
     "name": "stdout",
     "output_type": "stream",
     "text": [
      "Welcome to bank\n",
      "Please enter the ATMPIN No. :1234\n",
      "Please select an option\n",
      "Options\n",
      "1. Cash withdrawal\n",
      "2. Cash Deposit\n",
      "3. Password change\n",
      "Please choose your option: 1\n",
      "Please enter withdrawal amount in Rupees : 1\n",
      "Your bank balance before withdrawal is  150000  Rupees\n",
      "Your Bank balance after withdrawal is  149999  Rupees\n",
      "Thank you for banking with us\n"
     ]
    }
   ],
   "source": [
    "'''Options like Cash withdraw Cash credit and Change password should be there. Use if else and functions'''\n",
    "\n",
    "\n",
    "class Temp(Exception):\n",
    "    pass\n",
    "\n",
    "class Cashwithdraw(Temp):   \n",
    "        pass\n",
    "\n",
    "class Cashcredit(Temp):  \n",
    "        pass\n",
    "        \n",
    "BankBalance = 150000\n",
    "ATMPIN = 1234\n",
    "\n",
    "print(\"Welcome to bank\")\n",
    "\n",
    "UserinputPIN = int(input(\"Please enter the ATMPIN No. :\"))\n",
    "\n",
    "while True:\n",
    "    \n",
    "    try:        \n",
    "        if UserinputPIN == ATMPIN:\n",
    "            print(\"Please select an option\")\n",
    "            print(\"Options\")\n",
    "            print(\"1. Cash withdrawal\")\n",
    "            print(\"2. Cash Deposit\")\n",
    "            print(\"3. Password change\")\n",
    "            Option = int(input(\"Please choose your option: \"))\n",
    "            \n",
    "            if Option == 1:\n",
    "                Withdrawalamount = int(input(\"Please enter withdrawal amount in Rupees : \"))\n",
    "                PostWithdrawalamount = BankBalance - Withdrawalamount\n",
    "                raise Cashwithdraw\n",
    "\n",
    "            elif Option == 2:\n",
    "                Creditamount = int(input(\"Please enter Deposit amount in Rupees : \"))\n",
    "                PostCreditamount = BankBalance + Creditamount\n",
    "                raise Cashcredit\n",
    "\n",
    "            elif Option == 3:\n",
    "                CurrentPin = int(input(\"Please enter your current PIN :\"))\n",
    "                if CurrentPin == ATMPIN:\n",
    "                    NewPassword = int(input(\"Please enter your four digit new PIN :\"))\n",
    "                    NewPasswordConfirmation = int(input(\"Please re-enter your four digit new PIN :\"))\n",
    "                    if NewPassword == NewPasswordConfirmation:\n",
    "                        print(\"Congratulations. Your ATMPIN has been successfully reset\")\n",
    "                        break\n",
    "                    else:\n",
    "                        print(\"Please Changepassword from the starting again\")\n",
    "                else:\n",
    "                    print(\"You have entered incorrect PIN number, please retry again after sometime\")\n",
    "                    break\n",
    "            else:\n",
    "                print(\"Incorrect entry, Please try again after sometime\")\n",
    "                break\n",
    "        else:\n",
    "            print(\"You have entered incorrect PIN number, please retry again after sometime\")\n",
    "            break\n",
    "    except Cashwithdraw:\n",
    "        print(\"Your bank balance before withdrawal is \",BankBalance,\" Rupees\")\n",
    "        print(\"Your Bank balance after withdrawal is \", PostWithdrawalamount,\" Rupees\")\n",
    "        break\n",
    "    except Cashcredit:\n",
    "        print(\"Your bank balance before Deposit is \",BankBalance,\" Rupees\")\n",
    "        print(\"Your Bank balance after Deposit is \", PostCreditamount,\" Rupees\")\n",
    "        break\n",
    "\n",
    "print(\"Thank you for banking with us\")\n",
    "    \n",
    "        "
   ]
  },
  {
   "cell_type": "code",
   "execution_count": null,
   "metadata": {},
   "outputs": [],
   "source": []
  },
  {
   "cell_type": "markdown",
   "metadata": {},
   "source": [
    "6. Write a program which will find all such numbers which are divisible by 7 but are not a multiple of 5, between 2000 and 3200 (both included). The numbers obtained should be printed in a comma-separated sequence on a single line."
   ]
  },
  {
   "cell_type": "code",
   "execution_count": null,
   "metadata": {},
   "outputs": [],
   "source": [
    "list1=[]\n",
    "for i in range(2000,3201):\n",
    "    if (i%7==0 and i%5!=0):\n",
    "        list1.append(i)\n",
    "    else:\n",
    "        pass\n",
    "print(list1)\n",
    "    "
   ]
  },
  {
   "cell_type": "markdown",
   "metadata": {},
   "source": [
    "7. Write a program which can compute the factorial of a given numbers. Use recursion to find it.\n",
    "\n",
    "Hint: Suppose the following input is supplied to the program:"
   ]
  },
  {
   "cell_type": "code",
   "execution_count": null,
   "metadata": {},
   "outputs": [],
   "source": [
    "def factorial(n):\n",
    "    fact = 1\n",
    "    for i in range(1,n+1):\n",
    "        fact = fact*i\n",
    "    print(fact)"
   ]
  },
  {
   "cell_type": "code",
   "execution_count": null,
   "metadata": {},
   "outputs": [],
   "source": [
    "factorial(8)"
   ]
  },
  {
   "cell_type": "code",
   "execution_count": null,
   "metadata": {},
   "outputs": [],
   "source": [
    "Edureka solution                                                           #$"
   ]
  },
  {
   "cell_type": "code",
   "execution_count": null,
   "metadata": {},
   "outputs": [],
   "source": [
    "def fact(x):\n",
    "    if x == 0:\n",
    "        return 1\n",
    "    return x * fact(x - 1)\n",
    "x=int(input(\"Enter number whos factorial you want to find\"))\n",
    "print(fact(x))"
   ]
  },
  {
   "cell_type": "markdown",
   "metadata": {},
   "source": [
    "Write a program that calculates and prints the value according to the given formula:\n",
    "Q = Square root of [(2 * C * D)/H]\n",
    "Following are the fixed values of C and H: C is 50. H is 30.\n",
    "D is the variable whose values should be input to your program in a comma- separated sequence.\n",
    "\n",
    "Example:\n",
    "Let us assume the following comma separated input sequence is given to the program:\n",
    "100,150,180\n",
    "The output of the program should be:\n",
    "18,22,24"
   ]
  },
  {
   "cell_type": "code",
   "execution_count": 24,
   "metadata": {},
   "outputs": [
    {
     "name": "stdout",
     "output_type": "stream",
     "text": [
      "Enter the number : 100,150,180\n",
      "18,22,24\n"
     ]
    }
   ],
   "source": [
    "c = 50\n",
    "h = 30\n",
    "q=[]\n",
    "\n",
    "d = [x for x in (input(\"Enter the number : \")).split(\",\")]\n",
    "\n",
    "for i in d:\n",
    "    from math import sqrt\n",
    "    q.append(str(int(round(sqrt(2*c*float(i)/h)))))\n",
    "print(','.join(q))\n",
    "    "
   ]
  },
  {
   "cell_type": "code",
   "execution_count": 26,
   "metadata": {
    "scrolled": true
   },
   "outputs": [
    {
     "name": "stdout",
     "output_type": "stream",
     "text": [
      "Enter the number : 100,150,180\n"
     ]
    },
    {
     "ename": "TypeError",
     "evalue": "unsupported operand type(s) for /: 'str' and 'int'",
     "output_type": "error",
     "traceback": [
      "\u001b[1;31m---------------------------------------------------------------------------\u001b[0m",
      "\u001b[1;31mTypeError\u001b[0m                                 Traceback (most recent call last)",
      "\u001b[1;32m<ipython-input-26-7567a4e840d9>\u001b[0m in \u001b[0;36m<module>\u001b[1;34m\u001b[0m\n\u001b[0;32m      7\u001b[0m \u001b[1;32mfor\u001b[0m \u001b[0mi\u001b[0m \u001b[1;32min\u001b[0m \u001b[0md\u001b[0m\u001b[1;33m:\u001b[0m\u001b[1;33m\u001b[0m\u001b[1;33m\u001b[0m\u001b[0m\n\u001b[0;32m      8\u001b[0m     \u001b[1;32mfrom\u001b[0m \u001b[0mmath\u001b[0m \u001b[1;32mimport\u001b[0m \u001b[0msqrt\u001b[0m\u001b[1;33m\u001b[0m\u001b[1;33m\u001b[0m\u001b[0m\n\u001b[1;32m----> 9\u001b[1;33m     \u001b[0mq\u001b[0m\u001b[1;33m.\u001b[0m\u001b[0mappend\u001b[0m\u001b[1;33m(\u001b[0m\u001b[0mstr\u001b[0m\u001b[1;33m(\u001b[0m\u001b[0mint\u001b[0m\u001b[1;33m(\u001b[0m\u001b[0mround\u001b[0m\u001b[1;33m(\u001b[0m\u001b[0msqrt\u001b[0m\u001b[1;33m(\u001b[0m\u001b[1;36m2\u001b[0m\u001b[1;33m*\u001b[0m\u001b[0mc\u001b[0m\u001b[1;33m*\u001b[0m\u001b[1;33m(\u001b[0m\u001b[0mi\u001b[0m\u001b[1;33m)\u001b[0m\u001b[1;33m/\u001b[0m\u001b[0mh\u001b[0m\u001b[1;33m)\u001b[0m\u001b[1;33m)\u001b[0m\u001b[1;33m)\u001b[0m\u001b[1;33m)\u001b[0m\u001b[1;33m)\u001b[0m\u001b[1;33m\u001b[0m\u001b[1;33m\u001b[0m\u001b[0m\n\u001b[0m\u001b[0;32m     10\u001b[0m \u001b[0mprint\u001b[0m\u001b[1;33m(\u001b[0m\u001b[1;34m','\u001b[0m\u001b[1;33m.\u001b[0m\u001b[0mjoin\u001b[0m\u001b[1;33m(\u001b[0m\u001b[0mq\u001b[0m\u001b[1;33m)\u001b[0m\u001b[1;33m)\u001b[0m\u001b[1;33m\u001b[0m\u001b[1;33m\u001b[0m\u001b[0m\n\u001b[0;32m     11\u001b[0m \u001b[1;33m\u001b[0m\u001b[0m\n",
      "\u001b[1;31mTypeError\u001b[0m: unsupported operand type(s) for /: 'str' and 'int'"
     ]
    }
   ],
   "source": [
    "c = 50\n",
    "h = 30\n",
    "q=[]\n",
    "\n",
    "d = [x for x in (input(\"Enter the number : \")).split(\",\")]\n",
    "\n",
    "for i in d:\n",
    "    from math import sqrt\n",
    "    q.append(str(int(round(sqrt(2*c*(i)/h)))))\n",
    "print(','.join(q))\n",
    "    "
   ]
  },
  {
   "cell_type": "code",
   "execution_count": 15,
   "metadata": {},
   "outputs": [
    {
     "name": "stdout",
     "output_type": "stream",
     "text": [
      "Enter the numbers :100,50,180\n"
     ]
    },
    {
     "ename": "ValueError",
     "evalue": "invalid literal for int() with base 10: '100,50,180'",
     "output_type": "error",
     "traceback": [
      "\u001b[1;31m---------------------------------------------------------------------------\u001b[0m",
      "\u001b[1;31mValueError\u001b[0m                                Traceback (most recent call last)",
      "\u001b[1;32m<ipython-input-15-2e5992a4eead>\u001b[0m in \u001b[0;36m<module>\u001b[1;34m\u001b[0m\n\u001b[0;32m      1\u001b[0m \u001b[0mq\u001b[0m \u001b[1;33m=\u001b[0m \u001b[1;33m[\u001b[0m\u001b[1;33m]\u001b[0m\u001b[1;33m\u001b[0m\u001b[1;33m\u001b[0m\u001b[0m\n\u001b[1;32m----> 2\u001b[1;33m \u001b[0md\u001b[0m \u001b[1;33m=\u001b[0m \u001b[0mint\u001b[0m\u001b[1;33m(\u001b[0m\u001b[0minput\u001b[0m\u001b[1;33m(\u001b[0m\u001b[1;34m\"Enter the numbers :\"\u001b[0m\u001b[1;33m)\u001b[0m\u001b[1;33m)\u001b[0m\u001b[1;33m\u001b[0m\u001b[1;33m\u001b[0m\u001b[0m\n\u001b[0m\u001b[0;32m      3\u001b[0m \u001b[1;32mfrom\u001b[0m \u001b[0mmath\u001b[0m \u001b[1;32mimport\u001b[0m \u001b[0msqrt\u001b[0m\u001b[1;33m\u001b[0m\u001b[1;33m\u001b[0m\u001b[0m\n\u001b[0;32m      4\u001b[0m \u001b[1;32mfor\u001b[0m \u001b[0mi\u001b[0m \u001b[1;32min\u001b[0m \u001b[0mrange\u001b[0m\u001b[1;33m(\u001b[0m\u001b[0mlen\u001b[0m\u001b[1;33m(\u001b[0m\u001b[0md\u001b[0m\u001b[1;33m)\u001b[0m\u001b[1;33m)\u001b[0m\u001b[1;33m:\u001b[0m\u001b[1;33m\u001b[0m\u001b[1;33m\u001b[0m\u001b[0m\n\u001b[0;32m      5\u001b[0m     \u001b[0mq\u001b[0m\u001b[1;33m.\u001b[0m\u001b[0mappend\u001b[0m\u001b[1;33m(\u001b[0m\u001b[0mround\u001b[0m\u001b[1;33m(\u001b[0m\u001b[0msqrt\u001b[0m\u001b[1;33m(\u001b[0m\u001b[1;33m(\u001b[0m\u001b[1;36m2\u001b[0m\u001b[1;33m*\u001b[0m\u001b[1;36m50\u001b[0m\u001b[1;33m*\u001b[0m\u001b[0md\u001b[0m\u001b[1;33m)\u001b[0m\u001b[1;33m/\u001b[0m\u001b[1;36m30\u001b[0m\u001b[1;33m)\u001b[0m\u001b[1;33m)\u001b[0m\u001b[1;33m)\u001b[0m\u001b[1;33m\u001b[0m\u001b[1;33m\u001b[0m\u001b[0m\n",
      "\u001b[1;31mValueError\u001b[0m: invalid literal for int() with base 10: '100,50,180'"
     ]
    }
   ],
   "source": [
    "\n",
    "q = []\n",
    "d = int(input(\"Enter the numbers :\"))\n",
    "d\n",
    "from math import sqrt\n",
    "for i in range(len(d)):\n",
    "    q.append(round(sqrt((2*50*d)/30)))\n",
    "print(q)\n",
    "    \n",
    "        "
   ]
  },
  {
   "cell_type": "code",
   "execution_count": null,
   "metadata": {},
   "outputs": [],
   "source": []
  },
  {
   "cell_type": "markdown",
   "metadata": {},
   "source": [
    "Write a program which takes 2 digits, X,Y as input and generates a 2-dimensional array. The element value in the i-th row and j-th column of the array should be i*j.\n",
    "Note: i=0,1.., X-1; j=0,1,¡Y-1.\n",
    "Example:\n",
    "Suppose the following inputs are given to the program:\n",
    "3,5\n",
    "Then, the output of the program should be:\n",
    "[[0, 0, 0, 0, 0], [0, 1, 2, 3, 4], [0, 2, 4, 6, 8]]"
   ]
  },
  {
   "cell_type": "code",
   "execution_count": 52,
   "metadata": {},
   "outputs": [
    {
     "name": "stdout",
     "output_type": "stream",
     "text": [
      "Enter the number : 3,5\n",
      "[[0, 0, 0, 0, 0], [0, 1, 2, 3, 4], [0, 2, 4, 6, 8]]\n"
     ]
    }
   ],
   "source": [
    "multilist = [int(x) for x in (input(\"Enter the number : \")).split(\",\")]\n",
    "\n",
    "rowNum = multilist[0]\n",
    "colNum = multilist[1]\n",
    "\n",
    "value = [[0 for col in range(colNum)] for row in range(rowNum)]\n",
    "for row in range(rowNum):\n",
    "    for col in range(colNum):\n",
    "        value[row][col] = row*col\n",
    "print(value)"
   ]
  },
  {
   "cell_type": "code",
   "execution_count": null,
   "metadata": {},
   "outputs": [],
   "source": []
  },
  {
   "cell_type": "code",
   "execution_count": null,
   "metadata": {},
   "outputs": [],
   "source": []
  },
  {
   "cell_type": "code",
   "execution_count": null,
   "metadata": {},
   "outputs": [],
   "source": []
  },
  {
   "cell_type": "code",
   "execution_count": null,
   "metadata": {},
   "outputs": [],
   "source": []
  },
  {
   "cell_type": "code",
   "execution_count": null,
   "metadata": {},
   "outputs": [],
   "source": []
  },
  {
   "cell_type": "code",
   "execution_count": null,
   "metadata": {},
   "outputs": [],
   "source": []
  },
  {
   "cell_type": "code",
   "execution_count": null,
   "metadata": {},
   "outputs": [],
   "source": []
  },
  {
   "cell_type": "code",
   "execution_count": null,
   "metadata": {},
   "outputs": [],
   "source": []
  }
 ],
 "metadata": {
  "kernelspec": {
   "display_name": "Python 3",
   "language": "python",
   "name": "python3"
  },
  "language_info": {
   "codemirror_mode": {
    "name": "ipython",
    "version": 3
   },
   "file_extension": ".py",
   "mimetype": "text/x-python",
   "name": "python",
   "nbconvert_exporter": "python",
   "pygments_lexer": "ipython3",
   "version": "3.8.5"
  }
 },
 "nbformat": 4,
 "nbformat_minor": 4
}
